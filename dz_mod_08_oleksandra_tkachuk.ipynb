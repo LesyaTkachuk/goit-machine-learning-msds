{
 "cells": [
  {
   "cell_type": "code",
   "execution_count": 1,
   "metadata": {},
   "outputs": [],
   "source": [
    "import pandas as pd\n",
    "import numpy as np\n",
    "from scipy.stats import zscore\n",
    "import category_encoders as ce\n",
    "from sklearn.impute import SimpleImputer\n",
    "from sklearn.model_selection import train_test_split\n",
    "from sklearn.neighbors import KNeighborsRegressor\n",
    "from sklearn.preprocessing import  StandardScaler\n",
    "from sklearn.metrics import mean_absolute_percentage_error, make_scorer\n",
    "from sklearn.model_selection import RandomizedSearchCV, GridSearchCV\n",
    "import seaborn as sns\n",
    "import matplotlib.pyplot as plt"
   ]
  },
  {
   "cell_type": "code",
   "execution_count": 2,
   "metadata": {},
   "outputs": [],
   "source": [
    "# load train and validation datasets\n",
    "train_data = pd.read_csv(\"./datasets/mod_04_hw_train_data.csv\")\n",
    "valiid_data = pd.read_csv(\"./datasets/mod_04_hw_valid_data.csv\")"
   ]
  },
  {
   "cell_type": "code",
   "execution_count": 3,
   "metadata": {},
   "outputs": [
    {
     "data": {
      "text/html": [
       "<div>\n",
       "<style scoped>\n",
       "    .dataframe tbody tr th:only-of-type {\n",
       "        vertical-align: middle;\n",
       "    }\n",
       "\n",
       "    .dataframe tbody tr th {\n",
       "        vertical-align: top;\n",
       "    }\n",
       "\n",
       "    .dataframe thead th {\n",
       "        text-align: right;\n",
       "    }\n",
       "</style>\n",
       "<table border=\"1\" class=\"dataframe\">\n",
       "  <thead>\n",
       "    <tr style=\"text-align: right;\">\n",
       "      <th></th>\n",
       "      <th>Name</th>\n",
       "      <th>Phone_Number</th>\n",
       "      <th>Experience</th>\n",
       "      <th>Qualification</th>\n",
       "      <th>University</th>\n",
       "      <th>Role</th>\n",
       "      <th>Cert</th>\n",
       "      <th>Date_Of_Birth</th>\n",
       "      <th>Salary</th>\n",
       "    </tr>\n",
       "  </thead>\n",
       "  <tbody>\n",
       "    <tr>\n",
       "      <th>0</th>\n",
       "      <td>Jennifer Hernandez</td>\n",
       "      <td>120-602-1220</td>\n",
       "      <td>3.0</td>\n",
       "      <td>Msc</td>\n",
       "      <td>Tier2</td>\n",
       "      <td>Mid</td>\n",
       "      <td>Yes</td>\n",
       "      <td>25/08/1972</td>\n",
       "      <td>98000</td>\n",
       "    </tr>\n",
       "    <tr>\n",
       "      <th>1</th>\n",
       "      <td>Timothy Walker</td>\n",
       "      <td>840-675-8650</td>\n",
       "      <td>5.0</td>\n",
       "      <td>PhD</td>\n",
       "      <td>Tier2</td>\n",
       "      <td>Senior</td>\n",
       "      <td>Yes</td>\n",
       "      <td>03/12/2013</td>\n",
       "      <td>135500</td>\n",
       "    </tr>\n",
       "    <tr>\n",
       "      <th>2</th>\n",
       "      <td>David Duran</td>\n",
       "      <td>556-293-8643</td>\n",
       "      <td>5.0</td>\n",
       "      <td>Msc</td>\n",
       "      <td>Tier2</td>\n",
       "      <td>Senior</td>\n",
       "      <td>Yes</td>\n",
       "      <td>19/07/2002</td>\n",
       "      <td>123500</td>\n",
       "    </tr>\n",
       "    <tr>\n",
       "      <th>3</th>\n",
       "      <td>Gloria Ortega</td>\n",
       "      <td>463-559-7474</td>\n",
       "      <td>3.0</td>\n",
       "      <td>Bsc</td>\n",
       "      <td>Tier3</td>\n",
       "      <td>Mid</td>\n",
       "      <td>No</td>\n",
       "      <td>19/02/1970</td>\n",
       "      <td>85000</td>\n",
       "    </tr>\n",
       "    <tr>\n",
       "      <th>4</th>\n",
       "      <td>Matthew Steele</td>\n",
       "      <td>968-091-7683</td>\n",
       "      <td>5.0</td>\n",
       "      <td>Bsc</td>\n",
       "      <td>Tier2</td>\n",
       "      <td>Senior</td>\n",
       "      <td>Yes</td>\n",
       "      <td>20/02/1970</td>\n",
       "      <td>111500</td>\n",
       "    </tr>\n",
       "  </tbody>\n",
       "</table>\n",
       "</div>"
      ],
      "text/plain": [
       "                 Name  Phone_Number  Experience  ... Cert Date_Of_Birth  Salary\n",
       "0  Jennifer Hernandez  120-602-1220         3.0  ...  Yes    25/08/1972   98000\n",
       "1      Timothy Walker  840-675-8650         5.0  ...  Yes    03/12/2013  135500\n",
       "2         David Duran  556-293-8643         5.0  ...  Yes    19/07/2002  123500\n",
       "3       Gloria Ortega  463-559-7474         3.0  ...   No    19/02/1970   85000\n",
       "4      Matthew Steele  968-091-7683         5.0  ...  Yes    20/02/1970  111500\n",
       "\n",
       "[5 rows x 9 columns]"
      ]
     },
     "execution_count": 3,
     "metadata": {},
     "output_type": "execute_result"
    }
   ],
   "source": [
    "# observe data\n",
    "train_data.head()\n"
   ]
  },
  {
   "cell_type": "code",
   "execution_count": 4,
   "metadata": {},
   "outputs": [
    {
     "name": "stdout",
     "output_type": "stream",
     "text": [
      "<class 'pandas.core.frame.DataFrame'>\n",
      "RangeIndex: 249 entries, 0 to 248\n",
      "Data columns (total 9 columns):\n",
      " #   Column         Non-Null Count  Dtype  \n",
      "---  ------         --------------  -----  \n",
      " 0   Name           249 non-null    object \n",
      " 1   Phone_Number   249 non-null    object \n",
      " 2   Experience     247 non-null    float64\n",
      " 3   Qualification  248 non-null    object \n",
      " 4   University     249 non-null    object \n",
      " 5   Role           246 non-null    object \n",
      " 6   Cert           247 non-null    object \n",
      " 7   Date_Of_Birth  249 non-null    object \n",
      " 8   Salary         249 non-null    int64  \n",
      "dtypes: float64(1), int64(1), object(7)\n",
      "memory usage: 17.6+ KB\n"
     ]
    }
   ],
   "source": [
    "# observe data types and missed data\n",
    "train_data.info()"
   ]
  },
  {
   "cell_type": "code",
   "execution_count": 5,
   "metadata": {},
   "outputs": [
    {
     "data": {
      "text/html": [
       "<div>\n",
       "<style scoped>\n",
       "    .dataframe tbody tr th:only-of-type {\n",
       "        vertical-align: middle;\n",
       "    }\n",
       "\n",
       "    .dataframe tbody tr th {\n",
       "        vertical-align: top;\n",
       "    }\n",
       "\n",
       "    .dataframe thead th {\n",
       "        text-align: right;\n",
       "    }\n",
       "</style>\n",
       "<table border=\"1\" class=\"dataframe\">\n",
       "  <thead>\n",
       "    <tr style=\"text-align: right;\">\n",
       "      <th></th>\n",
       "      <th>Experience</th>\n",
       "      <th>Salary</th>\n",
       "    </tr>\n",
       "  </thead>\n",
       "  <tbody>\n",
       "    <tr>\n",
       "      <th>count</th>\n",
       "      <td>247.000000</td>\n",
       "      <td>249.000000</td>\n",
       "    </tr>\n",
       "    <tr>\n",
       "      <th>mean</th>\n",
       "      <td>3.441296</td>\n",
       "      <td>98186.746988</td>\n",
       "    </tr>\n",
       "    <tr>\n",
       "      <th>std</th>\n",
       "      <td>1.496471</td>\n",
       "      <td>23502.622217</td>\n",
       "    </tr>\n",
       "    <tr>\n",
       "      <th>min</th>\n",
       "      <td>1.000000</td>\n",
       "      <td>49500.000000</td>\n",
       "    </tr>\n",
       "    <tr>\n",
       "      <th>25%</th>\n",
       "      <td>2.000000</td>\n",
       "      <td>78500.000000</td>\n",
       "    </tr>\n",
       "    <tr>\n",
       "      <th>50%</th>\n",
       "      <td>4.000000</td>\n",
       "      <td>104500.000000</td>\n",
       "    </tr>\n",
       "    <tr>\n",
       "      <th>75%</th>\n",
       "      <td>5.000000</td>\n",
       "      <td>116500.000000</td>\n",
       "    </tr>\n",
       "    <tr>\n",
       "      <th>max</th>\n",
       "      <td>5.000000</td>\n",
       "      <td>141500.000000</td>\n",
       "    </tr>\n",
       "  </tbody>\n",
       "</table>\n",
       "</div>"
      ],
      "text/plain": [
       "       Experience         Salary\n",
       "count  247.000000     249.000000\n",
       "mean     3.441296   98186.746988\n",
       "std      1.496471   23502.622217\n",
       "min      1.000000   49500.000000\n",
       "25%      2.000000   78500.000000\n",
       "50%      4.000000  104500.000000\n",
       "75%      5.000000  116500.000000\n",
       "max      5.000000  141500.000000"
      ]
     },
     "execution_count": 5,
     "metadata": {},
     "output_type": "execute_result"
    }
   ],
   "source": [
    "\n",
    "# get dataset statistics\n",
    "train_data.describe()\n"
   ]
  },
  {
   "cell_type": "code",
   "execution_count": 6,
   "metadata": {},
   "outputs": [],
   "source": [
    "# primary feature investigation\n",
    "# we can observe that 'Name', 'Phone_Number', 'Date_Of_Birth' are not useful features for salary prediction\n",
    "# let's leave only important features\n",
    "imp_features = [\"Experience\", \"Qualification\", \"University\", \"Role\", \"Cert\"]\n",
    "X_train_imp = train_data[imp_features]\n",
    "y_train = train_data[\"Salary\"]\n",
    "\n",
    "X_valid_imp = valiid_data[imp_features]\n",
    "y_valid = valiid_data[\"Salary\"]\n"
   ]
  },
  {
   "cell_type": "code",
   "execution_count": 7,
   "metadata": {},
   "outputs": [],
   "source": [
    "X_train_cat = X_train_imp.select_dtypes(include=\"object\")\n",
    "X_train_num = X_train_imp.select_dtypes(include=\"number\")\n",
    "\n",
    "\n",
    "# fill missed values\n",
    "imputer_num = SimpleImputer().set_output(transform=\"pandas\")\n",
    "X_train_num = imputer_num.fit_transform(X_train_num)\n",
    "X_valid_num = imputer_num.transform(X_valid_imp.select_dtypes(include=\"number\"))\n",
    "\n",
    "imputer_cat = SimpleImputer(strategy=\"most_frequent\").set_output(transform=\"pandas\")\n",
    "X_train_cat = imputer_cat.fit_transform(X_train_cat)\n",
    "X_valid_cat = imputer_cat.transform(X_valid_imp.select_dtypes(include=\"object\"))"
   ]
  },
  {
   "cell_type": "code",
   "execution_count": 8,
   "metadata": {},
   "outputs": [],
   "source": [
    "# encode categorical features\n",
    "encoder = ce.TargetEncoder()\n",
    "\n",
    "X_train_cat = encoder.fit_transform(X_train_cat, y_train)\n",
    "X_valid_cat = encoder.transform(X_valid_cat)"
   ]
  },
  {
   "cell_type": "code",
   "execution_count": 9,
   "metadata": {},
   "outputs": [],
   "source": [
    "# combine numerical and categorical features\n",
    "X_train = pd.concat([X_train_num, X_train_cat], axis=1)\n",
    "X_valid = pd.concat([X_valid_num, X_valid_cat], axis=1)"
   ]
  },
  {
   "cell_type": "code",
   "execution_count": 10,
   "metadata": {},
   "outputs": [],
   "source": [
    "# features normalization\n",
    "scaler = StandardScaler().set_output(transform=\"pandas\")\n",
    "\n",
    "X_train = scaler.fit_transform(X_train)\n",
    "X_valid = scaler.transform(X_valid)"
   ]
  },
  {
   "cell_type": "code",
   "execution_count": 11,
   "metadata": {},
   "outputs": [
    {
     "name": "stdout",
     "output_type": "stream",
     "text": [
      "Validation MAPE: 10.47%\n"
     ]
    }
   ],
   "source": [
    "# build KNeighborsRegressor model\n",
    "model = KNeighborsRegressor().fit(X_train, y_train)\n",
    "\n",
    "y_prd = model.predict(X_valid)\n",
    "\n",
    "mape = mean_absolute_percentage_error(y_valid, y_prd)\n",
    "\n",
    "print(f\"Validation MAPE: {mape:.2%}\") # 10.47%\n",
    "# we obtained MAPE of 10.47%, lets try to improve it"
   ]
  },
  {
   "cell_type": "code",
   "execution_count": 12,
   "metadata": {},
   "outputs": [
    {
     "data": {
      "image/png": "[encoded data removed]",
      "text/plain": [
       "<Figure size 576x576 with 1 Axes>"
      ]
     },
     "metadata": {},
     "output_type": "display_data"
    }
   ],
   "source": [
    "# build correlation matrix\n",
    "corr_mtx = pd.concat([X_train, y_train], axis=1).corr()\n",
    "\n",
    "fig, ax = plt.subplots(figsize=(8, 8))\n",
    "\n",
    "sns.heatmap(\n",
    "    corr_mtx,\n",
    "    cmap=\"crest\",\n",
    "    annot=True,\n",
    "    fmt=\".2f\",\n",
    "    linewidth=0.5,\n",
    "    mask=np.triu(np.ones_like(corr_mtx, dtype=bool)),\n",
    "    square=True,\n",
    "    cbar=False,\n",
    "    ax=ax,\n",
    ")\n",
    "\n",
    "plt.show()\n",
    "# we see that 'Role' and 'Experience' have strong positive correlation between each other, but they have high correlation with the target value too. So, these features are important and couldn't be deleted from our model"
   ]
  },
  {
   "cell_type": "code",
   "execution_count": 13,
   "metadata": {},
   "outputs": [],
   "source": [
    "# after manual investigation we notice that \"Qualification\" is not important for our model and without it we could improve our model a lot\n",
    "# let's delete \"Qualification\" feature from our model\n",
    "X_train = X_train.drop(columns=[\"Qualification\"])\n",
    "X_valid = X_valid.drop(columns=[\"Qualification\"])"
   ]
  },
  {
   "cell_type": "code",
   "execution_count": 14,
   "metadata": {},
   "outputs": [
    {
     "name": "stdout",
     "output_type": "stream",
     "text": [
      "Validation MAPE for updated model: 5.36%\n"
     ]
    }
   ],
   "source": [
    "# build KNeighborsRegressor model without \"Qualification\"\n",
    "model_upd = KNeighborsRegressor().fit(X_train, y_train)\n",
    "\n",
    "y_prd_upd = model_upd.predict(X_valid)\n",
    "\n",
    "mape_upd = mean_absolute_percentage_error(y_valid, y_prd_upd)\n",
    "\n",
    "print(f\"Validation MAPE for updated model: {mape_upd:.2%}\") # 5.36%\n",
    "# we obtained MAPE of 5.36%, that is great, but lets try to improve it"
   ]
  },
  {
   "cell_type": "code",
   "execution_count": 15,
   "metadata": {},
   "outputs": [
    {
     "name": "stdout",
     "output_type": "stream",
     "text": [
      "{'algorithm': 'ball_tree', 'leaf_size': 15, 'n_neighbors': 7, 'p': 1, 'weights': 'uniform'}\n",
      "Validation MAPE fwith grid search params: 5.09%\n"
     ]
    }
   ],
   "source": [
    "# try to find the best parameters for our model with GridSearchCV\n",
    "parameters = {\n",
    "    \"n_neighbors\": (5, 7, 9, 11, 13, 15, 17, 19, 21, 23, 25),\n",
    "    \"weights\": (\"uniform\", \"distance\"),\n",
    "    \"algorithm\": (\"auto\", \"ball_tree\", \"kd_tree\", \"brute\"),\n",
    "    \"leaf_size\": (10, 15, 20, 25, 30, 35, 40),\n",
    "    \"p\": (1, 2),\n",
    "}\n",
    "\n",
    "search = GridSearchCV(\n",
    "    estimator=model,\n",
    "    param_grid=parameters,\n",
    "    scoring=make_scorer(mean_absolute_percentage_error, greater_is_better=False),\n",
    "    cv=5,\n",
    "    n_jobs=-1,\n",
    ").fit(X_train, y_train)\n",
    "best_parameters = search.best_params_\n",
    "\n",
    "print(best_parameters)\n",
    "\n",
    "model_best = KNeighborsRegressor(**best_parameters).fit(X_train, y_train)\n",
    "\n",
    "y_prd_best = model_best.predict(X_valid).flatten()\n",
    "\n",
    "mape_best = mean_absolute_percentage_error(y_valid, y_prd_best)\n",
    "\n",
    "print(f\"Validation MAPE fwith grid search params: {mape_best:.2%}\") # 5.09%"
   ]
  },
  {
   "cell_type": "code",
   "execution_count": 16,
   "metadata": {},
   "outputs": [
    {
     "name": "stdout",
     "output_type": "stream",
     "text": [
      "best_parameters_rand :  {'weights': 'uniform', 'p': 2, 'n_neighbors': 9, 'leaf_size': 10, 'algorithm': 'auto'}\n",
      "Validation MAPE with randomised search params: 4.67%\n"
     ]
    }
   ],
   "source": [
    "# find best parameters using RandomizedSearchCV\n",
    "search_rand = RandomizedSearchCV(\n",
    "    estimator=model,\n",
    "    param_distributions=parameters,\n",
    "    scoring=\"neg_mean_absolute_percentage_error\",\n",
    "    cv=5,\n",
    "    refit=False,\n",
    "    n_jobs=-1,\n",
    ").fit(X_train, y_train)\n",
    "best_parameters_rand = search_rand.best_params_\n",
    "\n",
    "print(\"best_parameters_rand : \", best_parameters_rand)\n",
    "\n",
    "model_best_rand = KNeighborsRegressor(**best_parameters_rand).fit(X_train, y_train)\n",
    "\n",
    "y_prd_best_rand = model_best_rand.predict(X_valid).flatten()\n",
    "\n",
    "mape_best_rand = mean_absolute_percentage_error(y_valid, y_prd_best_rand)\n",
    "\n",
    "print(f\"Validation MAPE with randomised search params: {mape_best_rand:.2%}\")\n"
   ]
  },
  {
   "cell_type": "code",
   "execution_count": 17,
   "metadata": {},
   "outputs": [
    {
     "name": "stdout",
     "output_type": "stream",
     "text": [
      "Validation MAPE with manual check params: 2.53%\n"
     ]
    }
   ],
   "source": [
    "# manual check based on previous results gave us the best parameters\n",
    "params = {\n",
    "    \"weights\": \"distance\",\n",
    "    \"p\": 1,\n",
    "    \"n_neighbors\": 21,\n",
    "    \"leaf_size\": 13,\n",
    "    \"algorithm\": \"brute\",\n",
    "} \n",
    "\n",
    "model_best_rand = KNeighborsRegressor(**params).fit(X_train, y_train)\n",
    "\n",
    "y_prd_best_rand = model_best_rand.predict(X_valid).flatten()\n",
    "\n",
    "mape_best_rand = mean_absolute_percentage_error(y_valid, y_prd_best_rand)\n",
    "\n",
    "print(f\"Validation MAPE with manual check params: {mape_best_rand:.2%}\") # 2.53%\n"
   ]
  },
  {
   "cell_type": "markdown",
   "metadata": {},
   "source": [
    "\n",
    " Conclusion\n",
    "\n",
    "After initial data investigation and preparation we have reached MAPE of 10.47%.\n",
    "After unimportant features deletion we have reached MAPE of 5.36%\n",
    "With the help of GridSearchCV and RandomizedSearchCV we have found the best parameters for our model\n",
    "Manual check gave us MAPE of 2.53%, that is even better.\n",
    "So, we can conclude that after basic model creation we can improve our model a lot. We should investigate carefully features importance, use GridSearchCV and RandomizedSearchCV, manual check for finding best parameters and other techniques."
   ]
  },
  {
   "cell_type": "code",
   "execution_count": null,
   "metadata": {},
   "outputs": [],
   "source": []
  }
 ],
 "metadata": {
  "anaconda-cloud": {},
  "kernelspec": {
   "display_name": "Python 3 (Spyder)",
   "language": "python3",
   "name": "python3"
  },
  "language_info": {
   "codemirror_mode": {
    "name": "ipython",
    "version": 3
   },
   "file_extension": ".py",
   "mimetype": "text/x-python",
   "name": "python",
   "nbconvert_exporter": "python",
   "pygments_lexer": "ipython3",
   "version": "3.11.9"
  }
 },
 "nbformat": 4,
 "nbformat_minor": 4
}
